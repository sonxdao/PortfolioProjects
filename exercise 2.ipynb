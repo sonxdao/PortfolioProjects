{
 "cells": [
  {
   "cell_type": "code",
   "execution_count": null,
   "id": "b680186f",
   "metadata": {},
   "outputs": [],
   "source": [
    "#Odd Or Even "
   ]
  },
  {
   "cell_type": "code",
   "execution_count": null,
   "id": "43015aee",
   "metadata": {},
   "outputs": [],
   "source": [
    "#Ask the user for a number. \n",
    "#Depending on whether the number is even or odd, print out an appropriate message to the user. \n",
    "#Hint: how does an even / odd number react differently when divided by 2?"
   ]
  },
  {
   "cell_type": "code",
   "execution_count": 18,
   "id": "b229db79",
   "metadata": {},
   "outputs": [
    {
     "name": "stdout",
     "output_type": "stream",
     "text": [
      "Choose a number: 32\n",
      "32\n"
     ]
    }
   ],
   "source": [
    "number = int(input(\"Choose a number: \"))\n",
    "print(number)"
   ]
  },
  {
   "cell_type": "code",
   "execution_count": 19,
   "id": "0f0e6ab7",
   "metadata": {},
   "outputs": [],
   "source": [
    "mod = number % 2"
   ]
  },
  {
   "cell_type": "code",
   "execution_count": 20,
   "id": "adf84f72",
   "metadata": {},
   "outputs": [
    {
     "name": "stdout",
     "output_type": "stream",
     "text": [
      "you picked an EVEN number\n"
     ]
    }
   ],
   "source": [
    "if mod > 0:\n",
    "    print(\"you picked an ODD number\")\n",
    "else:\n",
    "    print(\"you picked an EVEN number\")"
   ]
  },
  {
   "cell_type": "code",
   "execution_count": 21,
   "id": "87f40b71",
   "metadata": {},
   "outputs": [
    {
     "name": "stdout",
     "output_type": "stream",
     "text": [
      "give me a number to check: 32\n",
      "give me a number to divide by: 8\n",
      "32 divides evenly by 8\n"
     ]
    }
   ],
   "source": [
    "#If the number is a multiple of 4, print out a different message.\n",
    "#Ask the user for two numbers: one number to check (call it num) and one number to divide by (check). \n",
    "#If check divides evenly into num, tell that to the user. If not, print a different appropriate message\n",
    "\n",
    "num = int(input(\"give me a number to check: \"))\n",
    "check = int(input(\"give me a number to divide by: \"))\n",
    "\n",
    "if mod % 4:\n",
    "    print(\"is a multiple of 4\")\n",
    "elif num % check == 0:\n",
    "    print(str(num), \"divides evenly by\", str(check))\n",
    "else:\n",
    "    print(str(num), \"does not divide evenly by\", str(check))"
   ]
  },
  {
   "cell_type": "code",
   "execution_count": null,
   "id": "2bd8c49f",
   "metadata": {},
   "outputs": [],
   "source": []
  },
  {
   "cell_type": "code",
   "execution_count": 1,
   "id": "d2c26a45",
   "metadata": {},
   "outputs": [
    {
     "data": {
      "text/plain": [
       "1.6666666666666667"
      ]
     },
     "execution_count": 1,
     "metadata": {},
     "output_type": "execute_result"
    }
   ],
   "source": [
    "5/3"
   ]
  },
  {
   "cell_type": "code",
   "execution_count": 2,
   "id": "a706e497",
   "metadata": {},
   "outputs": [
    {
     "data": {
      "text/plain": [
       "2"
      ]
     },
     "execution_count": 2,
     "metadata": {},
     "output_type": "execute_result"
    }
   ],
   "source": [
    "5%3"
   ]
  },
  {
   "cell_type": "code",
   "execution_count": 10,
   "id": "90dfe661",
   "metadata": {},
   "outputs": [
    {
     "name": "stdout",
     "output_type": "stream",
     "text": [
      "26\n"
     ]
    }
   ],
   "source": [
    "age = 26\n",
    "print (age)"
   ]
  },
  {
   "cell_type": "code",
   "execution_count": 11,
   "id": "c45b96b4",
   "metadata": {},
   "outputs": [
    {
     "name": "stdout",
     "output_type": "stream",
     "text": [
      "can see a rated R movie\n"
     ]
    }
   ],
   "source": [
    "if age > 17: \n",
    "  print(\"can see a rated R movie\")\n",
    "elif age < 17 and age > 12:\n",
    "  print(\"can see a rated PG-13 movie\")\n",
    "else: \n",
    "  print(\"can only see rated PG movies\")"
   ]
  },
  {
   "cell_type": "code",
   "execution_count": 23,
   "id": "f458e02a",
   "metadata": {},
   "outputs": [
    {
     "name": "stdout",
     "output_type": "stream",
     "text": [
      "3\n"
     ]
    }
   ],
   "source": [
    "a = 3\n",
    "print(a)"
   ]
  },
  {
   "cell_type": "code",
   "execution_count": 24,
   "id": "4086ff66",
   "metadata": {},
   "outputs": [
    {
     "name": "stdout",
     "output_type": "stream",
     "text": [
      "the variable has the value 3\n"
     ]
    }
   ],
   "source": [
    "if a == 3: \n",
    "  print(\"the variable has the value 3\")\n",
    "elif a != 3:\n",
    "  print(\"the variable does not have the value 3\")"
   ]
  },
  {
   "cell_type": "code",
   "execution_count": null,
   "id": "5368f9cd",
   "metadata": {},
   "outputs": [],
   "source": []
  },
  {
   "cell_type": "code",
   "execution_count": 1,
   "id": "a539f6a2",
   "metadata": {},
   "outputs": [],
   "source": [
    "# Redo on 3/25/2023"
   ]
  },
  {
   "cell_type": "code",
   "execution_count": 23,
   "id": "8cad42cd",
   "metadata": {},
   "outputs": [
    {
     "name": "stdout",
     "output_type": "stream",
     "text": [
      "Gimme a number! 32\n",
      "Congrats, you have a even number!\n",
      "Nice, it is also a multiple of 4!\n",
      "Enter a number to check: 4\n",
      "Enter a number to divide by: 8\n",
      "8 does not divide evenly into 4\n"
     ]
    }
   ],
   "source": [
    "numero = int(input('Gimme a number! '))\n",
    "\n",
    "divisor = numero % 2\n",
    "\n",
    "if divisor == 0:\n",
    "    print('Congrats, you have a even number!')\n",
    "else:\n",
    "    print('Congrats, you have an odd number!')\n",
    "    \n",
    "divisor4 = numero % 4\n",
    "\n",
    "if divisor4 == 0:\n",
    "    print('Nice, it is also a multiple of 4!')\n",
    "else:\n",
    "    print('Cool, it is not a multiple of 4')\n",
    "    \n",
    "num = int(input('Enter a number to check: '))\n",
    "check = int(input('Enter a number to divide by: '))\n",
    "\n",
    "dividesevenly = num % check\n",
    "\n",
    "if dividesevenly == 0:\n",
    "    print(str(check) + ' divides evenly into ' + str(num) + '!')\n",
    "else:\n",
    "    print(str(check) + ' does not divide evenly into ' + str(num))"
   ]
  },
  {
   "cell_type": "code",
   "execution_count": null,
   "id": "fa35a383",
   "metadata": {},
   "outputs": [],
   "source": []
  },
  {
   "cell_type": "code",
   "execution_count": null,
   "id": "d88f7a13",
   "metadata": {},
   "outputs": [],
   "source": []
  },
  {
   "cell_type": "code",
   "execution_count": null,
   "id": "b19fdb8b",
   "metadata": {},
   "outputs": [],
   "source": []
  },
  {
   "cell_type": "code",
   "execution_count": null,
   "id": "8eec9860",
   "metadata": {},
   "outputs": [],
   "source": []
  },
  {
   "cell_type": "code",
   "execution_count": null,
   "id": "c51d5afe",
   "metadata": {},
   "outputs": [],
   "source": []
  },
  {
   "cell_type": "code",
   "execution_count": null,
   "id": "f208780b",
   "metadata": {},
   "outputs": [],
   "source": []
  },
  {
   "cell_type": "code",
   "execution_count": null,
   "id": "8fdf1bbf",
   "metadata": {},
   "outputs": [],
   "source": []
  },
  {
   "cell_type": "code",
   "execution_count": null,
   "id": "a503e155",
   "metadata": {},
   "outputs": [],
   "source": []
  },
  {
   "cell_type": "code",
   "execution_count": null,
   "id": "225598a5",
   "metadata": {},
   "outputs": [],
   "source": []
  },
  {
   "cell_type": "code",
   "execution_count": null,
   "id": "1d6638c4",
   "metadata": {},
   "outputs": [],
   "source": []
  },
  {
   "cell_type": "code",
   "execution_count": null,
   "id": "8322158e",
   "metadata": {},
   "outputs": [],
   "source": []
  },
  {
   "cell_type": "code",
   "execution_count": null,
   "id": "55817a1f",
   "metadata": {},
   "outputs": [],
   "source": []
  },
  {
   "cell_type": "code",
   "execution_count": null,
   "id": "d73ed76f",
   "metadata": {},
   "outputs": [],
   "source": []
  },
  {
   "cell_type": "code",
   "execution_count": null,
   "id": "c2fe8a6a",
   "metadata": {},
   "outputs": [],
   "source": []
  },
  {
   "cell_type": "code",
   "execution_count": null,
   "id": "0ec3e105",
   "metadata": {},
   "outputs": [],
   "source": []
  }
 ],
 "metadata": {
  "kernelspec": {
   "display_name": "Python 3 (ipykernel)",
   "language": "python",
   "name": "python3"
  },
  "language_info": {
   "codemirror_mode": {
    "name": "ipython",
    "version": 3
   },
   "file_extension": ".py",
   "mimetype": "text/x-python",
   "name": "python",
   "nbconvert_exporter": "python",
   "pygments_lexer": "ipython3",
   "version": "3.9.13"
  }
 },
 "nbformat": 4,
 "nbformat_minor": 5
}
